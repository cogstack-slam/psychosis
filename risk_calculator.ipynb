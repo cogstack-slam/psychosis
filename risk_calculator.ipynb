{
 "cells": [
  {
   "cell_type": "code",
   "execution_count": 17,
   "metadata": {},
   "outputs": [
    {
     "name": "stdout",
     "output_type": "stream",
     "text": [
      "The autoreload extension is already loaded. To reload it, use:\n",
      "  %reload_ext autoreload\n"
     ]
    }
   ],
   "source": [
    "%load_ext autoreload\n",
    "%autoreload 2"
   ]
  },
  {
   "cell_type": "code",
   "execution_count": 2,
   "metadata": {},
   "outputs": [],
   "source": [
    "from elasticsearch import Elasticsearch\n",
    "from elasticsearch_dsl import Search\n",
    "import pandas as pd\n",
    "import numpy as np\n",
    "import json\n",
    "from datetime import date, datetime\n",
    "import logging\n",
    "from elastic_util import *\n",
    "import time"
   ]
  },
  {
   "cell_type": "markdown",
   "metadata": {},
   "source": [
    "# Load data from Cogstack"
   ]
  },
  {
   "cell_type": "code",
   "execution_count": 3,
   "metadata": {},
   "outputs": [],
   "source": [
    "logger = logging.getLogger('psychosis_risk_cal')\n",
    "handler = logging.StreamHandler()\n",
    "formatter = logging.Formatter(\n",
    "        '%(asctime)s %(name)-12s %(levelname)-8s : %(message)s')\n",
    "handler.setFormatter(formatter)\n",
    "logger.addHandler(handler)\n",
    "logger.setLevel(logging.DEBUG)"
   ]
  },
  {
   "cell_type": "code",
   "execution_count": 4,
   "metadata": {},
   "outputs": [],
   "source": [
    "def read_elas_index(client, index, doc_type='doc'):\n",
    "    while not client.indices.exists(index):\n",
    "        time.sleep(30)\n",
    "    s = Search(using=client, index=index, doc_type=doc_type).filter('match', coeff_validated='0')\n",
    "    logger.info('Loaded %s documents' %s.count())\n",
    "    df = pd.DataFrame((d.to_dict() for d in s.scan()))\n",
    "    logger.info('Documents shape: %s %s' %(df.shape))\n",
    "    \n",
    "    logger.info('Change data types')\n",
    "    df['first_primary_diagnosis_date'] = pd.to_datetime(df['first_primary_diagnosis_date'])\n",
    "    df['patient_date_of_birth'] = pd.to_datetime(df['patient_date_of_birth'])\n",
    "    df['first_primary_diagnosis_recorded_date'] = pd.to_datetime(df['first_primary_diagnosis_recorded_date'])\n",
    "#     print(df.dtypes)\n",
    "#     df['patient_id'] = df['patient_id'].astype(int)\n",
    "#     df['referral_id'] = df['referral_id'].astype(int)\n",
    "    logger.info('Documents shape after changing data types: %s %s' %(df.shape))\n",
    "    return df"
   ]
  },
  {
   "cell_type": "markdown",
   "metadata": {},
   "source": [
    "# Location (exclude patients out of SLaM)"
   ]
  },
  {
   "cell_type": "code",
   "execution_count": 15,
   "metadata": {},
   "outputs": [],
   "source": [
    "def exclude_location (df):\n",
    "    bs = ['Lambeth', 'Southwark', 'Lewisham', 'Croydon']\n",
    "    df = df[df['pct_name'].notna()]\n",
    "    df = df[df['pct_name'].str.contains('|'.join(bs), case=False)]\n",
    "    return df"
   ]
  },
  {
   "cell_type": "markdown",
   "metadata": {},
   "source": [
    "# Ethnicity (changed to lower for string match and added two mapping rules)"
   ]
  },
  {
   "cell_type": "code",
   "execution_count": 6,
   "metadata": {},
   "outputs": [],
   "source": [
    "# Added the following two lines in original list\n",
    "# Scottish (CB) --- British (A) \n",
    "# African --- African (N)\n",
    "def read_eth_mapping(file_path='ethnicity_mapping.txt'):\n",
    "    eth_map = {}\n",
    "    with open(file_path, 'r') as fr:\n",
    "        for line in fr.readlines():\n",
    "            tokens = line.strip().split('---')\n",
    "            eth_map[tokens[0].strip().lower()] = tokens[1].strip().lower()\n",
    "    return eth_map"
   ]
  },
  {
   "cell_type": "code",
   "execution_count": 7,
   "metadata": {},
   "outputs": [],
   "source": [
    "def ethnicity_coeff(df):\n",
    "    eth_map = read_eth_mapping()\n",
    "    logger.info('Mapping ePJS ethnicity names to CRIS ethnicity names')\n",
    "    df['patient_demography_ethnicity_cris'] = df['patient_demography_ethnicity'].str.lower()\n",
    "    df['patient_demography_ethnicity_cris'] = df['patient_demography_ethnicity_cris'].map(eth_map)\n",
    "#     print(set(df['patient_demography_ethnicity_cris']))\n",
    "    \n",
    "    logger.info('Calcuating ethnicity coeffs')\n",
    "    df['eth_coeff'] = None\n",
    "    black = [s.lower() for s in ['Caribbean (M)','African (N)','Any other black background (P)']]\n",
    "    white = [s.lower() for s in ['British (A)','Irish (B)','Any other white background (C)']]\n",
    "    asian = [s.lower() for s in ['Indian (H)','Pakistani (J)','Any other Asian background (L)','Chinese (R)','Bangladeshi (K)']]\n",
    "    mixed = [s.lower() for s in ['White and black Caribbean (D)','White and Black African (E)','White and Asian (F)','Any other mixed background (G)']]\n",
    "    other = [s.lower() for s in ['Any other ethnic group (S)']]\n",
    "\n",
    "    df.loc[df['patient_demography_ethnicity_cris'].isin(asian), 'eth_coeff'] = 0.5143438\n",
    "    df.loc[df['patient_demography_ethnicity_cris'].isin(black), 'eth_coeff'] = 1.037915\n",
    "    df.loc[df['patient_demography_ethnicity_cris'].isin(mixed), 'eth_coeff'] = 0.6044039\n",
    "    df.loc[df['patient_demography_ethnicity_cris'].isin(other), 'eth_coeff'] = 0.4081036\n",
    "    df.loc[df['patient_demography_ethnicity_cris'].isin(white), 'eth_coeff'] = 0.0\n",
    "    df['eth_coeff'] = df['eth_coeff'].astype(float)\n",
    "    \n",
    "    # CRIS ethnicity categories that are not mapped in the code\n",
    "#     print(set(df['patient_demography_ethnicity_cris']) - set(black) - set(white) - set(asian) - set(mixed) - set(other))\n",
    "    logger.info('Finished calcuating ethnicity coeffs')\n",
    "    return df"
   ]
  },
  {
   "cell_type": "markdown",
   "metadata": {},
   "source": [
    "# Gender"
   ]
  },
  {
   "cell_type": "code",
   "execution_count": 8,
   "metadata": {},
   "outputs": [],
   "source": [
    "def gender_coeff(df):\n",
    "    logger.info('Calcuating gender coeffs')\n",
    "    df['gender_coeff'] = None\n",
    "    df.loc[df['patient_demography_gender']=='Female', 'gender_coeff'] = 0.0 \n",
    "    df.loc[df['patient_demography_gender']=='Male', 'gender_coeff'] = 0.5681779    \n",
    "    df['gender_coeff'] = df['gender_coeff'].astype(float)\n",
    "    logger.info('Finished calcuating gender coeffs')\n",
    "    return df"
   ]
  },
  {
   "cell_type": "markdown",
   "metadata": {},
   "source": [
    "# Age"
   ]
  },
  {
   "cell_type": "code",
   "execution_count": 9,
   "metadata": {},
   "outputs": [],
   "source": [
    "# np.floor(13.2)"
   ]
  },
  {
   "cell_type": "code",
   "execution_count": 10,
   "metadata": {},
   "outputs": [],
   "source": [
    "# Age should be int, not float. using floor. \n",
    "def age_coeff(df):\n",
    "    logger.info('Calcuating age coeffs')\n",
    "    df['age_coeff'] = None\n",
    "\n",
    "    df['age_at_index_diagnosis'] = np.floor((df['first_primary_diagnosis_date'] - df['patient_date_of_birth'])/np.timedelta64(1, 'Y'))\n",
    "#     Remove age < 0 to remove default date 1900-01-01 due to system error in 2009-11-27/28\n",
    "    df = df.copy()\n",
    "    df = df.loc[df['age_at_index_diagnosis'] >= 0]\n",
    "    df['age_coeff'] = df['age_at_index_diagnosis']*0.0117113\n",
    "    df['age_coeff'] = df['age_coeff'].astype(float)\n",
    "    logger.info('Finished calcuating age coeffs')\n",
    "    return df"
   ]
  },
  {
   "cell_type": "markdown",
   "metadata": {},
   "source": [
    "# Gender & Age"
   ]
  },
  {
   "cell_type": "code",
   "execution_count": 11,
   "metadata": {},
   "outputs": [],
   "source": [
    "def gender_age_coeff(df):\n",
    "    logger.info('Calcuating gender*age coeffs')\n",
    "    df['gender_age_coeff'] = None\n",
    "    df.loc[df['patient_demography_gender']=='Female', 'gender_age_coeff'] = 0.0\n",
    "    df.loc[df['patient_demography_gender']=='Male', 'gender_age_coeff'] = 0.0121931*df['age_at_index_diagnosis']\n",
    "    df['gender_age_coeff'] = df['gender_age_coeff'].astype(float)\n",
    "    logger.info('Finished calcuating gender*age coeffs')\n",
    "    return df"
   ]
  },
  {
   "cell_type": "markdown",
   "metadata": {},
   "source": [
    "# Diagnosis index (added exclusions)"
   ]
  },
  {
   "cell_type": "code",
   "execution_count": 12,
   "metadata": {},
   "outputs": [],
   "source": [
    "def diag_coeff(df):\n",
    "    # Diagnosis mapping\n",
    "    \n",
    "    Psychotic = tuple(['F20', 'F25.0', 'F25.1', 'F25.2', 'F25.8', 'F25.9', 'F22.0', 'F22.8', 'F22.9', 'F24', 'F28', 'F29',\n",
    "                      'F30.2', 'F31.2', 'F31.5', 'F32.3', 'F33.3', 'F53.1'] + \n",
    "                     ['F1'+ str(i) + '.' + str(j) for i in range(10) for j in [4, 5, 7]])\n",
    "    Psychotic_exclude = tuple(['F20.7'])\n",
    "    \n",
    "    Acute = tuple(['F23'])\n",
    "\n",
    "    Substance = tuple(['F1'])\n",
    "    Substance_exclude = tuple(['F1'+ str(i) + '.' + str(j) for i in range(10) for j in [4, 5, 7]])\n",
    "\n",
    "    Bipolar = tuple(['F31', 'F34.0', 'F30'])\n",
    "    Bipolar_exclude = tuple(['F31.2', 'F31.5', 'F30.2'])\n",
    "\n",
    "    Non_bipolar = tuple(['F32', 'F33', 'F34.1', 'F34.8', 'F34.9', 'F38', 'F39'])\n",
    "    Non_bipolar_exclude = tuple(['F32.3', 'F33.3'])\n",
    "\n",
    "    Anxiety = tuple(['F40', 'F41', 'F42', 'F43', 'F44', 'F45', 'F48'])\n",
    "\n",
    "    Personality = tuple(['F60', 'F61', 'F62', 'F68', 'F69', 'F21', 'F63', 'F64', 'F65', 'F66'])\n",
    "\n",
    "    Developmental = tuple(['F80', 'F81', 'F82', 'F83', 'F84', 'F88', 'F89'])\n",
    "\n",
    "    Childhood = tuple(['F90', 'F91', 'F92', 'F93', 'F94', 'F98', 'F95'])\n",
    "\n",
    "    Physiological = tuple(['F50', 'F51', 'F52', 'F53', 'F54', 'F55', 'F59'])\n",
    "    Physiological_exclude = tuple(['F53.1'])\n",
    "\n",
    "    Mental = tuple(['F70', 'F71', 'F72', 'F73', 'F78', 'F79'])\n",
    "    \n",
    "    Organic = tuple(['F0'])\n",
    "    \n",
    "    logger.info('Mapping ICD-10 codes to disorder categories')\n",
    "    df['diagnosis_group'] = None\n",
    "# \n",
    "    df.loc[df['first_primary_diagnosis'].notna(), 'diagnosis_group'] = 'Other' # All other diagnoses not in list of interest\n",
    "    df.loc[df['first_primary_diagnosis'].str.startswith(Psychotic) & (~df['first_primary_diagnosis'].str.startswith(Psychotic_exclude)), 'diagnosis_group'] = 'Psychotic disorder'\n",
    "    df.loc[df['first_primary_diagnosis'].str.startswith(Acute), 'diagnosis_group'] = 'Acute and transient psychotic disorders'\n",
    "    df.loc[df['first_primary_diagnosis'].str.startswith(Substance) & (~df['first_primary_diagnosis'].str.startswith(Substance_exclude)), 'diagnosis_group'] = 'Substance use disorders'\n",
    "    df.loc[df['first_primary_diagnosis'].str.startswith(Bipolar) & (~df['first_primary_diagnosis'].str.startswith(Bipolar_exclude)), 'diagnosis_group'] = 'Bipolar mood disorders'\n",
    "    df.loc[df['first_primary_diagnosis'].str.startswith(Non_bipolar) & (~df['first_primary_diagnosis'].str.startswith(Non_bipolar_exclude)), 'diagnosis_group'] = 'Non bipolar mood disorders'\n",
    "    df.loc[df['first_primary_diagnosis'].str.startswith(Anxiety), 'diagnosis_group'] = 'Anxiety disorders'\n",
    "    df.loc[df['first_primary_diagnosis'].str.startswith(Personality), 'diagnosis_group'] = 'Personality disorders'\n",
    "    df.loc[df['first_primary_diagnosis'].str.startswith(Developmental), 'diagnosis_group'] = 'Developmental disorders'\n",
    "    df.loc[df['first_primary_diagnosis'].str.startswith(Childhood), 'diagnosis_group'] = 'Childhood/adolescence onset disorders'\n",
    "    df.loc[df['first_primary_diagnosis'].str.startswith(Physiological) & (~df['first_primary_diagnosis'].str.startswith(Physiological_exclude)), 'diagnosis_group'] = 'Physiological syndromes'\n",
    "    df.loc[df['first_primary_diagnosis'].str.startswith(Mental), 'diagnosis_group'] = 'Mental retardation'\n",
    "    df.loc[df['first_primary_diagnosis'].str.startswith(Organic), 'diagnosis_group'] = 'Organic mental disorder'\n",
    "    logger.info('Finshed mapping ICD-10 codes to disorder categories')\n",
    "    \n",
    "    logger.info('Calculating diagnosis coeffs')\n",
    "    df['diagnosis_group_coeff'] = None\n",
    "#     df.loc[df['diagnosis_group'] == 'Psychotic disorder', 'diagnosis_group_coeff'] = 0.0 # Comment this for excluding 'Psychotic disorder'\n",
    "    df.loc[df['diagnosis_group'] == 'Acute and transient psychotic disorders', 'diagnosis_group_coeff'] = 0.9867204\n",
    "    df.loc[df['diagnosis_group'] == 'Substance use disorders', 'diagnosis_group_coeff'] = -1.925903\n",
    "    df.loc[df['diagnosis_group'] == 'Bipolar mood disorders', 'diagnosis_group_coeff'] = -0.1754082\n",
    "    df.loc[df['diagnosis_group'] == 'Non bipolar mood disorders', 'diagnosis_group_coeff'] = -1.886428\n",
    "    df.loc[df['diagnosis_group'] == 'Anxiety disorders', 'diagnosis_group_coeff'] = -2.235825\n",
    "    df.loc[df['diagnosis_group'] == 'Personality disorders', 'diagnosis_group_coeff'] = -1.547794\n",
    "    df.loc[df['diagnosis_group'] == 'Developmental disorders', 'diagnosis_group_coeff'] = -3.466732\n",
    "    df.loc[df['diagnosis_group'] == 'Childhood/adolescence onset disorders', 'diagnosis_group_coeff'] = -3.25382\n",
    "    df.loc[df['diagnosis_group'] == 'Physiological syndromes', 'diagnosis_group_coeff'] = -2.463145\n",
    "    df.loc[df['diagnosis_group'] == 'Mental retardation', 'diagnosis_group_coeff'] = -2.450679\n",
    "    \n",
    "    df['diagnosis_group_coeff'] = df['diagnosis_group_coeff'].astype(float)\n",
    "    logger.info('Finished calculating diagnosis coeffs')\n",
    "    \n",
    "    \n",
    "    logger.info('Labeling records that do not miss any predictors')\n",
    "#     df['coeff_validated'] = False\n",
    "    df.loc[df['diagnosis_group'].notna() & df['age_coeff'].notna()\n",
    "           & df['eth_coeff'].notna() & df['gender_coeff'].notna(), 'coeff_validated'] = '1'\n",
    "    return df"
   ]
  },
  {
   "cell_type": "markdown",
   "metadata": {},
   "source": [
    "# Risk scores"
   ]
  },
  {
   "cell_type": "code",
   "execution_count": 13,
   "metadata": {},
   "outputs": [],
   "source": [
    "def risk_score(df):\n",
    "    logger.info('Calculating risk scores per year')\n",
    "    \n",
    "    df['PI'] = None\n",
    "    df.loc[df['diagnosis_group_coeff'].notna() & df['age_coeff'].notna()\n",
    "           & df['eth_coeff'].notna() & df['gender_coeff'].notna(), 'PI'] = df['gender_coeff'] + df['age_coeff'] - df['gender_age_coeff'] + df['eth_coeff'] + df['diagnosis_group_coeff']\n",
    "    df['risk_calculated_dttm'] = datetime.now()\n",
    "#     dfvald = df.loc[df['coeff_validated'] == True] # Records that with \"coeff_validated == True\" can hava diagnoses in 'Psychotic disorder','Organic mental disorder' and others. Risk scores of these records are not calculated\n",
    "    \n",
    "    df.loc[df['PI'].notna(), 'exist_risk_score'] = '1'\n",
    "    \n",
    "    dfpi = df.loc[df['exist_risk_score'] == '1']\n",
    "    dfpi = dfpi.copy()\n",
    "    dfpi['PI'] = dfpi['PI'].astype(float)\n",
    "    \n",
    "    # https://data.princeton.edu/wws509/notes/c7.pdf Eq. 7.11  \n",
    "    pi_exp = np.exp(dfpi['PI'].astype(float))\n",
    "    dfpi.loc[dfpi['PI'].notna(),'h_1_year'] = 1 - (0.9714991 ** pi_exp)\n",
    "    dfpi.loc[dfpi['PI'].notna(),'h_2_year'] = 1 - (0.9540228 ** pi_exp)\n",
    "    dfpi.loc[dfpi['PI'].notna(),'h_3_year'] = 1 - (0.9403899 ** pi_exp)\n",
    "    dfpi.loc[dfpi['PI'].notna(),'h_4_year'] = 1 - (0.9273409 ** pi_exp)\n",
    "    dfpi.loc[dfpi['PI'].notna(),'h_5_year'] = 1 - (0.9160071 ** pi_exp)\n",
    "    dfpi.loc[dfpi['PI'].notna(),'h_6_year'] = 1 - (0.9086922 ** pi_exp)\n",
    "    \n",
    "    \n",
    "    logger.info('Finished calculating risk scores per year')\n",
    "    return df, dfpi"
   ]
  },
  {
   "cell_type": "code",
   "execution_count": null,
   "metadata": {},
   "outputs": [],
   "source": []
  },
  {
   "cell_type": "code",
   "execution_count": null,
   "metadata": {},
   "outputs": [],
   "source": []
  },
  {
   "cell_type": "code",
   "execution_count": 16,
   "metadata": {},
   "outputs": [
    {
     "name": "stderr",
     "output_type": "stream",
     "text": [
      "2019-06-10 19:30:06,099 psychosis_risk_cal INFO     : Connect to host.....\n",
      "2019-06-10 19:30:06,113 psychosis_risk_cal INFO     : Loaded 200941 documents\n",
      "2019-06-10 19:30:23,548 psychosis_risk_cal INFO     : Documents shape: 200941 32\n",
      "2019-06-10 19:30:23,549 psychosis_risk_cal INFO     : Change data types\n",
      "2019-06-10 19:30:25,583 psychosis_risk_cal INFO     : Documents shape after changing data types: 200941 32\n",
      "2019-06-10 19:30:26,289 psychosis_risk_cal INFO     : Mapping ePJS ethnicity names to CRIS ethnicity names\n",
      "2019-06-10 19:30:26,614 psychosis_risk_cal INFO     : Calcuating ethnicity coeffs\n",
      "2019-06-10 19:30:27,962 psychosis_risk_cal INFO     : Finished calcuating ethnicity coeffs\n",
      "2019-06-10 19:30:27,964 psychosis_risk_cal INFO     : Calcuating gender coeffs\n",
      "2019-06-10 19:30:29,321 psychosis_risk_cal INFO     : Finished calcuating gender coeffs\n",
      "2019-06-10 19:30:29,323 psychosis_risk_cal INFO     : Calcuating age coeffs\n",
      "2019-06-10 19:30:31,651 psychosis_risk_cal INFO     : Finished calcuating age coeffs\n",
      "2019-06-10 19:30:31,757 psychosis_risk_cal INFO     : Calcuating gender*age coeffs\n",
      "2019-06-10 19:30:33,250 psychosis_risk_cal INFO     : Finished calcuating gender*age coeffs\n",
      "2019-06-10 19:30:33,251 psychosis_risk_cal INFO     : Mapping ICD-10 codes to disorder categories\n",
      "2019-06-10 19:30:35,109 psychosis_risk_cal INFO     : Finshed mapping ICD-10 codes to disorder categories\n",
      "2019-06-10 19:30:35,110 psychosis_risk_cal INFO     : Calculating diagnosis coeffs\n",
      "2019-06-10 19:30:36,472 psychosis_risk_cal INFO     : Finished calculating diagnosis coeffs\n",
      "2019-06-10 19:30:36,473 psychosis_risk_cal INFO     : Labeling records that do not miss any predictors\n",
      "2019-06-10 19:30:36,500 psychosis_risk_cal INFO     : Calculating risk scores per year\n",
      "2019-06-10 19:30:38,690 psychosis_risk_cal INFO     : Finished calculating risk scores per year\n",
      "2019-06-10 19:30:38,691 psychosis_risk_cal INFO     : Write patients at risk into Cogstack\n",
      "2019-06-10 19:30:38,695 psychosis_risk_cal INFO     : Numbers of risky patients: 90961 47\n",
      "2019-06-10 19:31:08,441 psychosis_risk_cal INFO     : Write sucessfully!\n",
      "2019-06-10 19:31:08,443 psychosis_risk_cal INFO     : Update records in source table\n",
      "2019-06-10 19:31:08,458 psychosis_risk_cal INFO     : Numbers of records that are needed to update: 140408 4\n",
      "2019-06-10 19:31:33,416 psychosis_risk_cal INFO     : Updated sucessfully!\n"
     ]
    }
   ],
   "source": [
    "while True:\n",
    "    logger.info('Connect to host.....')\n",
    "    client = Elasticsearch(['http://10.16.31.65:9200/'], request_timeout=600)\n",
    "\n",
    "    df = read_elas_index(client, index='psychosis_base', doc_type='doc')\n",
    "    df = exclude_location(df)\n",
    "    df = ethnicity_coeff(df)\n",
    "    df = gender_coeff(df)\n",
    "    df = age_coeff(df)\n",
    "    df = gender_age_coeff(df)\n",
    "    df = diag_coeff(df)\n",
    "    df, df_risk = risk_score(df)\n",
    "\n",
    "    logger.info('Write patients at risk into Cogstack')\n",
    "    logger.info('Numbers of risky patients: %s %s' %(df_risk.shape))\n",
    "    if df_risk.shape[0] > 0:\n",
    "        df_risk['alerted'] = False\n",
    "        df_risk['alerted_dttm'] = datetime.now()\n",
    "        INDEX=\"psychosis_risk\"\n",
    "        TYPE= \"doc\"\n",
    "        doc_index = 'patient_id'\n",
    "        res = bulk_insert(client, df_risk, INDEX, TYPE, doc_index)\n",
    "        if res:\n",
    "            logger.info('Write sucessfully!')\n",
    "        else:\n",
    "            logger.info('Write UNsucessfully!!!!')\n",
    "\n",
    "    logger.info('Update records in source table')\n",
    "    if df.shape[0] > 0:\n",
    "        INDEX=\"psychosis_base\"\n",
    "        TYPE= \"doc\"\n",
    "        doc_index = 'patient_id'\n",
    "        df_update = df[['patient_id','coeff_validated', 'risk_calculated_dttm', 'exist_risk_score']]\n",
    "        logger.info('Numbers of records that are needed to update: %s %s' %(df_update.shape))\n",
    "        res = bulk_update(client, df_update, INDEX, TYPE, doc_index)\n",
    "        if res:\n",
    "            logger.info('Updated sucessfully!')\n",
    "        else:\n",
    "            logger.info('Updated UNsucessfully!!!!')\n",
    "    time.sleep(12 * 60* 60)"
   ]
  },
  {
   "cell_type": "code",
   "execution_count": null,
   "metadata": {},
   "outputs": [],
   "source": []
  },
  {
   "cell_type": "code",
   "execution_count": null,
   "metadata": {},
   "outputs": [],
   "source": []
  }
 ],
 "metadata": {
  "kernelspec": {
   "display_name": "Python 3",
   "language": "python",
   "name": "python3"
  },
  "language_info": {
   "codemirror_mode": {
    "name": "ipython",
    "version": 3
   },
   "file_extension": ".py",
   "mimetype": "text/x-python",
   "name": "python",
   "nbconvert_exporter": "python",
   "pygments_lexer": "ipython3",
   "version": "3.7.3"
  }
 },
 "nbformat": 4,
 "nbformat_minor": 2
}
