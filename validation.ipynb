{
 "cells": [
  {
   "cell_type": "code",
   "execution_count": 126,
   "metadata": {},
   "outputs": [],
   "source": [
    "from elasticsearch import Elasticsearch\n",
    "from elasticsearch_dsl import Search\n",
    "import pandas as pd\n",
    "import numpy as np\n",
    "import json\n",
    "from datetime import date, datetime\n",
    "import logging\n",
    "from elastic_util import *\n",
    "import time\n",
    "import seaborn as sns\n",
    "import matplotlib.pyplot as plt"
   ]
  },
  {
   "cell_type": "code",
   "execution_count": 127,
   "metadata": {},
   "outputs": [],
   "source": [
    "logger = logging.getLogger('psychosis_risk_cal')\n",
    "handler = logging.StreamHandler()\n",
    "formatter = logging.Formatter(\n",
    "        '%(asctime)s %(name)-12s %(levelname)-8s : %(message)s')\n",
    "handler.setFormatter(formatter)\n",
    "logger.addHandler(handler)\n",
    "logger.setLevel(logging.DEBUG)"
   ]
  },
  {
   "cell_type": "markdown",
   "metadata": {},
   "source": [
    "# 1. Read test data"
   ]
  },
  {
   "cell_type": "code",
   "execution_count": 128,
   "metadata": {},
   "outputs": [],
   "source": [
    "test_df = pd.read_excel('data/test_data.xlsx')"
   ]
  },
  {
   "cell_type": "code",
   "execution_count": 129,
   "metadata": {},
   "outputs": [
    {
     "data": {
      "text/plain": [
       "(120, 55)"
      ]
     },
     "execution_count": 129,
     "metadata": {},
     "output_type": "execute_result"
    }
   ],
   "source": [
    "test_df.shape"
   ]
  },
  {
   "cell_type": "markdown",
   "metadata": {},
   "source": [
    "# 1.1 Original calculation is only for patients whose ages are large than 16"
   ]
  },
  {
   "cell_type": "code",
   "execution_count": 130,
   "metadata": {},
   "outputs": [],
   "source": [
    "test_df['index_diagnosis_date'] = pd.to_datetime(test_df['index_diagnosis_date'], errors='coerce').dt.date"
   ]
  },
  {
   "cell_type": "code",
   "execution_count": 148,
   "metadata": {},
   "outputs": [],
   "source": [
    "min_date = min(test_df['index_diagnosis_date'])"
   ]
  },
  {
   "cell_type": "code",
   "execution_count": 149,
   "metadata": {},
   "outputs": [],
   "source": [
    "max_date = max(test_df['index_diagnosis_date'])"
   ]
  },
  {
   "cell_type": "code",
   "execution_count": 132,
   "metadata": {},
   "outputs": [
    {
     "data": {
      "image/png": "[encoded data removed]",
      "text/plain": [
       "<Figure size 432x288 with 1 Axes>"
      ]
     },
     "metadata": {
      "needs_background": "light"
     },
     "output_type": "display_data"
    }
   ],
   "source": [
    "sns.distplot(test_df['AGE_at_index_diagnosis'])\n",
    "plt.show()"
   ]
  },
  {
   "cell_type": "code",
   "execution_count": 133,
   "metadata": {},
   "outputs": [
    {
     "data": {
      "text/plain": [
       "16"
      ]
     },
     "execution_count": 133,
     "metadata": {},
     "output_type": "execute_result"
    }
   ],
   "source": [
    "min(test_df['AGE_at_index_diagnosis'])"
   ]
  },
  {
   "cell_type": "code",
   "execution_count": 134,
   "metadata": {},
   "outputs": [
    {
     "data": {
      "image/png": "[encoded data removed]",
      "text/plain": [
       "<Figure size 432x288 with 1 Axes>"
      ]
     },
     "metadata": {
      "needs_background": "light"
     },
     "output_type": "display_data"
    }
   ],
   "source": [
    "sns.distplot(test_df['h_2_year'])\n",
    "plt.show()"
   ]
  },
  {
   "cell_type": "markdown",
   "metadata": {},
   "source": [
    "# 2. Read data from Cogstack"
   ]
  },
  {
   "cell_type": "code",
   "execution_count": 135,
   "metadata": {},
   "outputs": [
    {
     "name": "stderr",
     "output_type": "stream",
     "text": [
      "2019-05-17 23:11:06,544 psychosis_risk_cal INFO     : Connect to host.....\n",
      "2019-05-17 23:11:06,544 psychosis_risk_cal INFO     : Connect to host.....\n",
      "2019-05-17 23:11:06,544 psychosis_risk_cal INFO     : Connect to host.....\n",
      "2019-05-17 23:11:06,544 psychosis_risk_cal INFO     : Connect to host.....\n",
      "2019-05-17 23:11:06,544 psychosis_risk_cal INFO     : Connect to host.....\n",
      "2019-05-17 23:11:06,544 psychosis_risk_cal INFO     : Connect to host.....\n",
      "2019-05-17 23:11:06,562 psychosis_risk_cal INFO     : Loaded 6926 documents\n",
      "2019-05-17 23:11:06,562 psychosis_risk_cal INFO     : Loaded 6926 documents\n",
      "2019-05-17 23:11:06,562 psychosis_risk_cal INFO     : Loaded 6926 documents\n",
      "2019-05-17 23:11:06,562 psychosis_risk_cal INFO     : Loaded 6926 documents\n",
      "2019-05-17 23:11:06,562 psychosis_risk_cal INFO     : Loaded 6926 documents\n",
      "2019-05-17 23:11:06,562 psychosis_risk_cal INFO     : Loaded 6926 documents\n",
      "2019-05-17 23:11:07,296 psychosis_risk_cal INFO     : Documents shape: 6926 34\n",
      "2019-05-17 23:11:07,296 psychosis_risk_cal INFO     : Documents shape: 6926 34\n",
      "2019-05-17 23:11:07,296 psychosis_risk_cal INFO     : Documents shape: 6926 34\n",
      "2019-05-17 23:11:07,296 psychosis_risk_cal INFO     : Documents shape: 6926 34\n",
      "2019-05-17 23:11:07,296 psychosis_risk_cal INFO     : Documents shape: 6926 34\n",
      "2019-05-17 23:11:07,296 psychosis_risk_cal INFO     : Documents shape: 6926 34\n",
      "2019-05-17 23:11:07,305 psychosis_risk_cal INFO     : Change data types\n",
      "2019-05-17 23:11:07,305 psychosis_risk_cal INFO     : Change data types\n",
      "2019-05-17 23:11:07,305 psychosis_risk_cal INFO     : Change data types\n",
      "2019-05-17 23:11:07,305 psychosis_risk_cal INFO     : Change data types\n",
      "2019-05-17 23:11:07,305 psychosis_risk_cal INFO     : Change data types\n",
      "2019-05-17 23:11:07,305 psychosis_risk_cal INFO     : Change data types\n",
      "2019-05-17 23:11:07,311 psychosis_risk_cal INFO     : Documents shape after changing data types: 6926 34\n",
      "2019-05-17 23:11:07,311 psychosis_risk_cal INFO     : Documents shape after changing data types: 6926 34\n",
      "2019-05-17 23:11:07,311 psychosis_risk_cal INFO     : Documents shape after changing data types: 6926 34\n",
      "2019-05-17 23:11:07,311 psychosis_risk_cal INFO     : Documents shape after changing data types: 6926 34\n",
      "2019-05-17 23:11:07,311 psychosis_risk_cal INFO     : Documents shape after changing data types: 6926 34\n",
      "2019-05-17 23:11:07,311 psychosis_risk_cal INFO     : Documents shape after changing data types: 6926 34\n"
     ]
    }
   ],
   "source": [
    "logger.info('Connect to host.....')\n",
    "client = Elasticsearch(['http://10.16.31.65:9200/'], request_timeout=600)\n",
    "doc_type='doc'\n",
    "index = 'psychosis_risk'\n",
    "s = Search(using=client, index=index, doc_type=doc_type).filter('range', h_2_year={'gte': 0.05})\n",
    "logger.info('Loaded %s documents' %s.count())\n",
    "df = pd.DataFrame((d.to_dict() for d in s.scan()))\n",
    "logger.info('Documents shape: %s %s' %(df.shape))\n",
    "\n",
    "logger.info('Change data types')\n",
    "#     df['first_primary_diagnosis_date'] = pd.to_datetime(df['first_primary_diagnosis_date'])\n",
    "#     df['patient_date_of_birth'] = pd.to_datetime(df['patient_date_of_birth'])\n",
    "#     df['first_primary_diagnosis_recorded_date'] = pd.to_datetime(df['first_primary_diagnosis_recorded_date'])\n",
    "#     print(df.dtypes)\n",
    "#     df['patient_id'] = df['patient_id'].astype(int)\n",
    "#     df['referral_id'] = df['referral_id'].astype(int)\n",
    "logger.info('Documents shape after changing data types: %s %s' %(df.shape))"
   ]
  },
  {
   "cell_type": "code",
   "execution_count": 136,
   "metadata": {},
   "outputs": [
    {
     "data": {
      "text/plain": [
       "(6926, 34)"
      ]
     },
     "execution_count": 136,
     "metadata": {},
     "output_type": "execute_result"
    }
   ],
   "source": [
    "df.shape"
   ]
  },
  {
   "cell_type": "markdown",
   "metadata": {},
   "source": [
    "# 3. Records missed in Cogstack"
   ]
  },
  {
   "cell_type": "code",
   "execution_count": 137,
   "metadata": {},
   "outputs": [
    {
     "data": {
      "image/png": "[encoded data removed]",
      "text/plain": [
       "<Figure size 432x288 with 1 Axes>"
      ]
     },
     "metadata": {
      "needs_background": "light"
     },
     "output_type": "display_data"
    }
   ],
   "source": [
    "sns.distplot(df['age_at_index_diagnosis'])\n",
    "plt.show()"
   ]
  },
  {
   "cell_type": "code",
   "execution_count": 138,
   "metadata": {},
   "outputs": [
    {
     "data": {
      "text/plain": [
       "5.0"
      ]
     },
     "execution_count": 138,
     "metadata": {},
     "output_type": "execute_result"
    }
   ],
   "source": [
    "min(df1['age_at_index_diagnosis'])"
   ]
  },
  {
   "cell_type": "code",
   "execution_count": 139,
   "metadata": {},
   "outputs": [
    {
     "data": {
      "text/html": [
       "<div>\n",
       "<style scoped>\n",
       "    .dataframe tbody tr th:only-of-type {\n",
       "        vertical-align: middle;\n",
       "    }\n",
       "\n",
       "    .dataframe tbody tr th {\n",
       "        vertical-align: top;\n",
       "    }\n",
       "\n",
       "    .dataframe thead th {\n",
       "        text-align: right;\n",
       "    }\n",
       "</style>\n",
       "<table border=\"1\" class=\"dataframe\">\n",
       "  <thead>\n",
       "    <tr style=\"text-align: right;\">\n",
       "      <th></th>\n",
       "      <th>PI</th>\n",
       "      <th>age_at_index_diagnosis</th>\n",
       "      <th>age_coeff</th>\n",
       "      <th>alerted</th>\n",
       "      <th>alerted_dttm</th>\n",
       "      <th>coeff_validated</th>\n",
       "      <th>diagnosis_group</th>\n",
       "      <th>diagnosis_group_coeff</th>\n",
       "      <th>diagnosis_invalid_flag</th>\n",
       "      <th>diagnosis_updated_dttm</th>\n",
       "      <th>...</th>\n",
       "      <th>icd10_id</th>\n",
       "      <th>patient_date_of_birth</th>\n",
       "      <th>patient_demography_ethnicity</th>\n",
       "      <th>patient_demography_ethnicity_cris</th>\n",
       "      <th>patient_demography_gender</th>\n",
       "      <th>patient_id</th>\n",
       "      <th>patient_name</th>\n",
       "      <th>patient_other_id1</th>\n",
       "      <th>patient_updated_dttm</th>\n",
       "      <th>risk_calculated_dttm</th>\n",
       "    </tr>\n",
       "  </thead>\n",
       "  <tbody>\n",
       "    <tr>\n",
       "      <th>2857</th>\n",
       "      <td>2.083192</td>\n",
       "      <td>5.0</td>\n",
       "      <td>0.058556</td>\n",
       "      <td>False</td>\n",
       "      <td>2019-05-17T23:02:04.767828</td>\n",
       "      <td>1</td>\n",
       "      <td>Acute and transient psychotic disorders</td>\n",
       "      <td>0.98672</td>\n",
       "      <td>0</td>\n",
       "      <td>2017-02-17T12:46:20.410</td>\n",
       "      <td>...</td>\n",
       "      <td>767485</td>\n",
       "      <td>2011-11-01T00:00:00</td>\n",
       "      <td>Other African (N)</td>\n",
       "      <td>african (n)</td>\n",
       "      <td>Female</td>\n",
       "      <td>444276</td>\n",
       "      <td>Miss Frances Hannah Fofanah</td>\n",
       "      <td>56-94-51</td>\n",
       "      <td>2017-02-06T16:42:05.100</td>\n",
       "      <td>2019-05-17T23:02:04.108919</td>\n",
       "    </tr>\n",
       "  </tbody>\n",
       "</table>\n",
       "<p>1 rows × 34 columns</p>\n",
       "</div>"
      ],
      "text/plain": [
       "            PI  age_at_index_diagnosis  age_coeff  alerted  \\\n",
       "2857  2.083192                     5.0   0.058556    False   \n",
       "\n",
       "                    alerted_dttm coeff_validated  \\\n",
       "2857  2019-05-17T23:02:04.767828               1   \n",
       "\n",
       "                              diagnosis_group  diagnosis_group_coeff  \\\n",
       "2857  Acute and transient psychotic disorders                0.98672   \n",
       "\n",
       "     diagnosis_invalid_flag   diagnosis_updated_dttm  ...  icd10_id  \\\n",
       "2857                      0  2017-02-17T12:46:20.410  ...    767485   \n",
       "\n",
       "     patient_date_of_birth patient_demography_ethnicity  \\\n",
       "2857   2011-11-01T00:00:00            Other African (N)   \n",
       "\n",
       "     patient_demography_ethnicity_cris patient_demography_gender patient_id  \\\n",
       "2857                       african (n)                    Female     444276   \n",
       "\n",
       "                     patient_name  patient_other_id1     patient_updated_dttm  \\\n",
       "2857  Miss Frances Hannah Fofanah           56-94-51  2017-02-06T16:42:05.100   \n",
       "\n",
       "            risk_calculated_dttm  \n",
       "2857  2019-05-17T23:02:04.108919  \n",
       "\n",
       "[1 rows x 34 columns]"
      ]
     },
     "execution_count": 139,
     "metadata": {},
     "output_type": "execute_result"
    }
   ],
   "source": [
    "df1[df1['age_at_index_diagnosis']==5]"
   ]
  },
  {
   "cell_type": "code",
   "execution_count": 140,
   "metadata": {},
   "outputs": [
    {
     "data": {
      "text/plain": [
       "{datetime.datetime(1943, 1, 24, 0, 0),\n",
       " datetime.datetime(1998, 1, 24, 0, 0),\n",
       " '59-64-19',\n",
       " '61-27-69'}"
      ]
     },
     "execution_count": 140,
     "metadata": {},
     "output_type": "execute_result"
    }
   ],
   "source": [
    "set(test_df['Other_ID1']) - set(df['patient_other_id1'])"
   ]
  },
  {
   "cell_type": "markdown",
   "metadata": {},
   "source": [
    "## There are 4 records are missed in Cogstack, \n",
    "\n",
    "## where 2 have mistakes in Other_ID1, so these 2 records cannot be tracked back.\n",
    "\n",
    "## Reason for the other 2 missed records (i.e., patients with \"Other_ID1\" of '59-64-19' and '61-27-69'): \n",
    "\n",
    "## Original calculation did not exclude invalid diagnosis, see the \"index_primary_diagnosis\" filed in the Excel file. The \"index_primary_diagnosis\" of these patients in the Excel file are \"F31.3 - Bipolar affect disorder cur epi mild or moderate depression\" and \"F30.1 - Mania without psychotic symptoms\", the same as the Primary_Diag of these patients' invalid diagnoses.\n",
    "\n",
    "## Below is the diagnoses of these two patients from ePJS. The first Primary_Diag of these two patients are invalid, so they are excluded in Cogstack-based calculations."
   ]
  },
  {
   "cell_type": "markdown",
   "metadata": {},
   "source": [
    "|Patient_ID|Other_ID1|\n",
    "|----------|---------|\n",
    "|471259|59-64-19|\n",
    "\n",
    "\n",
    "|ICD10_ID|Patient_ID|Diagnosis_Date|Created_Date|dnum|Primary_Diag|Invalid_Flag_ID|Invalid_Date|Invalid_Reason|\n",
    "|--------|----------|--------------|------------|----|------------|---------------|------------|--------------|\n",
    "|833975|471259|2018-03-19|2018-03-19|1|F31.3 - Bipolar affect disorder cur epi mild or moderate depression|1|2018-04-10 00:00:00|Wrong diagnosis entered erroneously |\n",
    "|837500|471259|2018-04-10|2018-04-10|2|F32.1 - Moderate depressive episode|0|||\n",
    "|862940|471259|2018-08-28|2018-08-28|3|F33.4 - Recurrent depressive disorder, currently in remission|0|||\n",
    "\n"
   ]
  },
  {
   "cell_type": "markdown",
   "metadata": {},
   "source": [
    "|Patient_ID|Other_ID1|\n",
    "|----------|---------|\n",
    "|487618|61-27-69|\n",
    "\n",
    "\n",
    "|ICD10_ID|Patient_ID|Diagnosis_Date|Created_Date|dnum|Primary_Diag|Invalid_Flag_ID|Invalid_Date|Invalid_Reason|\n",
    "|--------|----------|--------------|------------|----|------------|---------------|------------|--------------|\n",
    "|875441|487618|2018-11-09|2018-11-09|1|F30.1 - Mania without psychotic symptoms|1|2018-11-09 00:00:00||\n",
    "|875442|487618|2018-11-09|2018-11-09|2|F30.2 - Mania with psychotic symptoms|0|||\n",
    "|882163|487618|2018-12-12|2018-12-12|3|F30.2 - Mania with psychotic symptoms|0|||\n",
    "|887016|487618|2019-01-12|2019-01-12|4|F30.2 - Mania with psychotic symptoms|0|||\n",
    "|888452|487618|2019-01-21|2019-01-21|5|F30.2 - Mania with psychotic symptoms|0|||\n",
    "|889448|487618|2019-01-25|2019-01-25|6|F30.2 - Mania with psychotic symptoms|0|||\n",
    "|890244|487618|2019-01-30|2019-01-30|7|F30.2 - Mania with psychotic symptoms|0|||\n",
    "|890914|487618|2019-01-30|2019-02-02|8|F30.2 - Mania with psychotic symptoms|0|||\n",
    "\n"
   ]
  },
  {
   "cell_type": "markdown",
   "metadata": {},
   "source": [
    "# 4. Check differences of risk scores"
   ]
  },
  {
   "cell_type": "code",
   "execution_count": 141,
   "metadata": {},
   "outputs": [],
   "source": [
    "common_ids = set(test_df['Other_ID1']).intersection(set(df['patient_other_id1']))"
   ]
  },
  {
   "cell_type": "code",
   "execution_count": 142,
   "metadata": {},
   "outputs": [
    {
     "data": {
      "text/plain": [
       "116"
      ]
     },
     "execution_count": 142,
     "metadata": {},
     "output_type": "execute_result"
    }
   ],
   "source": [
    "len(common_ids)"
   ]
  },
  {
   "cell_type": "code",
   "execution_count": 143,
   "metadata": {},
   "outputs": [],
   "source": [
    "orig_fields = ['Gender_co_ef', 'Age_co_ef', 'diagnosis_group_co_ef', 'Eth_co_ef', 'GenderAge']\n",
    "cog_fields = ['gender_coeff', 'age_coeff', 'diagnosis_group_coeff', 'eth_coeff', 'gender_age_coeff']\n",
    "flen = len(orig_fields)"
   ]
  },
  {
   "cell_type": "markdown",
   "metadata": {},
   "source": [
    "## 4.1 Check different of PI"
   ]
  },
  {
   "cell_type": "code",
   "execution_count": 144,
   "metadata": {},
   "outputs": [
    {
     "name": "stdout",
     "output_type": "stream",
     "text": [
      "49-70-14 is different on PI values: 1.5722854   1.5308083000000001\n",
      "\tgender_coeff is different:  0.0   0.5681779\n",
      "\tgender_age_coeff is different:  0.0   0.6096550000000001\n",
      "56-85-16 is different on PI values: 0.5606118   0.1525082\n",
      "\teth_coeff is different:  0.4081036   0.0\n",
      "2\n"
     ]
    }
   ],
   "source": [
    "mis_count = 0\n",
    "for id in common_ids:\n",
    "    orig = test_df[test_df['Other_ID1'] == id]['PI'].values[0]\n",
    "    cog = df[df['patient_other_id1'] == id]['PI'].values[0]\n",
    "    if abs(orig - cog) > 0.00001:\n",
    "        mis_count += 1\n",
    "        print(str(id) + ' is different on PI values: ' + str(orig) + '   ' + str(cog))\n",
    "        for i in range(flen):\n",
    "            forig = test_df[test_df['Other_ID1'] == id][orig_fields[i]].values[0]\n",
    "            fcog = df[df['patient_other_id1'] == id][cog_fields[i]].values[0]\n",
    "            if abs(forig - fcog) > 0.00001:\n",
    "                print('\\t' + cog_fields[i] + ' is different:  ' + str(forig) + '   ' + str(fcog))\n",
    "print(mis_count)"
   ]
  },
  {
   "cell_type": "markdown",
   "metadata": {},
   "source": [
    "|patient_id|patient_updated_dttm|patient_name|patient_other_id1|patient_date_of_birth|patient_demography_gender|patient_demography_ethnicity|\n",
    "|----------|--------------------|------------|-----------------|---------------------|-------------------------|----------------------------|\n",
    "|443341|2019-01-02 11:44:32|Ms Alisha Rouse|56-85-16|1990-11-21|Female|British (A)|\n"
   ]
  },
  {
   "cell_type": "markdown",
   "metadata": {},
   "source": [
    "|patient_id|patient_updated_dttm|patient_name|patient_other_id1|patient_date_of_birth|patient_demography_gender|patient_demography_ethnicity|\n",
    "|----------|--------------------|------------|-----------------|---------------------|-------------------------|----------------------------|\n",
    "|371803|2018-12-04 11:19:35|Mr Adir Ferriera Da Silva|49-70-14|1968-08-30|Male|Portuguese (C4)|\n"
   ]
  },
  {
   "cell_type": "markdown",
   "metadata": {},
   "source": [
    "## The above two patients have updates about their demographic information on 2019-01-02 and 2018-12-04, the dates after the dates of original risk calculations, i.e., 29/11/2018 and 28/11/2018 respectively."
   ]
  },
  {
   "cell_type": "markdown",
   "metadata": {},
   "source": [
    "## 4.1 Check different of h_2_year"
   ]
  },
  {
   "cell_type": "code",
   "execution_count": 145,
   "metadata": {},
   "outputs": [
    {
     "name": "stdout",
     "output_type": "stream",
     "text": [
      "49-70-14 is different on h_2_year values: 0.2029   0.1955068031924856\n",
      "\tgender_coeff is different:  0.0   0.5681779\n",
      "\tgender_age_coeff is different:  0.0   0.6096550000000001\n",
      "56-85-16 is different on h_2_year values: 0.0791   0.0533465597538495\n",
      "\teth_coeff is different:  0.4081036   0.0\n",
      "2\n"
     ]
    }
   ],
   "source": [
    "mis_count = 0\n",
    "for id in common_ids:\n",
    "    orig = test_df[test_df['Other_ID1'] == id]['h_2_year'].values[0]\n",
    "    cog = df[df['patient_other_id1'] == id]['h_2_year'].values[0]\n",
    "    if abs(orig - cog) > 0.0001:\n",
    "        mis_count += 1\n",
    "        print(str(id) + ' is different on h_2_year values: ' + str(orig) + '   ' + str(cog))\n",
    "        for i in range(flen):\n",
    "            forig = test_df[test_df['Other_ID1'] == id][orig_fields[i]].values[0]\n",
    "            fcog = df[df['patient_other_id1'] == id][cog_fields[i]].values[0]\n",
    "            if abs(forig - fcog) > 0.0001:\n",
    "                print('\\t' + cog_fields[i] + ' is different:  ' + str(forig) + '   ' + str(fcog))\n",
    "print(mis_count)"
   ]
  },
  {
   "cell_type": "markdown",
   "metadata": {},
   "source": [
    "## There is no further difference on h_2_year, indicating there is no problem in transforming PI to h_2_year"
   ]
  },
  {
   "cell_type": "code",
   "execution_count": 146,
   "metadata": {},
   "outputs": [
    {
     "name": "stdout",
     "output_type": "stream",
     "text": [
      "49-70-14 is different on h_5_year values: 0.3447   0.3333470253335954\n",
      "\tgender_coeff is different:  0.0   0.5681779\n",
      "\tgender_age_coeff is different:  0.0   0.6096550000000001\n",
      "56-85-16 is different on h_5_year values: 0.1425   0.09713753758263477\n",
      "\teth_coeff is different:  0.4081036   0.0\n",
      "2\n"
     ]
    }
   ],
   "source": [
    "mis_count = 0\n",
    "for id in common_ids:\n",
    "    orig = test_df[test_df['Other_ID1'] == id]['h_5_year'].values[0]\n",
    "    cog = df[df['patient_other_id1'] == id]['h_5_year'].values[0]\n",
    "    if abs(orig - cog) > 0.0001:\n",
    "        mis_count += 1\n",
    "        print(str(id) + ' is different on h_5_year values: ' + str(orig) + '   ' + str(cog))\n",
    "        for i in range(flen):\n",
    "            forig = test_df[test_df['Other_ID1'] == id][orig_fields[i]].values[0]\n",
    "            fcog = df[df['patient_other_id1'] == id][cog_fields[i]].values[0]\n",
    "            if abs(forig - fcog) > 0.0001:\n",
    "                print('\\t' + cog_fields[i] + ' is different:  ' + str(forig) + '   ' + str(fcog))\n",
    "print(mis_count)"
   ]
  },
  {
   "cell_type": "markdown",
   "metadata": {},
   "source": [
    "## There is no further difference on h_5_year, indicating there is no problem in transforming PI to h_5_year"
   ]
  },
  {
   "cell_type": "code",
   "execution_count": null,
   "metadata": {},
   "outputs": [],
   "source": []
  },
  {
   "cell_type": "markdown",
   "metadata": {},
   "source": [
    "# Check in the same date range"
   ]
  },
  {
   "cell_type": "code",
   "execution_count": 166,
   "metadata": {},
   "outputs": [
    {
     "name": "stdout",
     "output_type": "stream",
     "text": [
      "2018-03-07 2019-05-04\n"
     ]
    }
   ],
   "source": [
    "print(min_date, max_date)"
   ]
  },
  {
   "cell_type": "code",
   "execution_count": 173,
   "metadata": {},
   "outputs": [
    {
     "data": {
      "text/plain": [
       "(6926, 34)"
      ]
     },
     "execution_count": 173,
     "metadata": {},
     "output_type": "execute_result"
    }
   ],
   "source": [
    "df.shape"
   ]
  },
  {
   "cell_type": "code",
   "execution_count": 156,
   "metadata": {},
   "outputs": [],
   "source": [
    "df['first_primary_diagnosis_date'] = pd.to_datetime(df['first_primary_diagnosis_date'], errors='coerce').dt.date"
   ]
  },
  {
   "cell_type": "code",
   "execution_count": 174,
   "metadata": {},
   "outputs": [],
   "source": [
    "df1 = df[(df['first_primary_diagnosis_date']>=min_date) & (df['first_primary_diagnosis_date']<= max_date)]"
   ]
  },
  {
   "cell_type": "code",
   "execution_count": 175,
   "metadata": {},
   "outputs": [
    {
     "data": {
      "text/plain": [
       "(262, 34)"
      ]
     },
     "execution_count": 175,
     "metadata": {},
     "output_type": "execute_result"
    }
   ],
   "source": [
    "df1.shape"
   ]
  },
  {
   "cell_type": "code",
   "execution_count": 176,
   "metadata": {},
   "outputs": [],
   "source": [
    "df1 = df1[(df1['age_at_index_diagnosis']>=16)]"
   ]
  },
  {
   "cell_type": "code",
   "execution_count": 177,
   "metadata": {},
   "outputs": [
    {
     "data": {
      "text/plain": [
       "(259, 34)"
      ]
     },
     "execution_count": 177,
     "metadata": {},
     "output_type": "execute_result"
    }
   ],
   "source": [
    "df1.shape"
   ]
  },
  {
   "cell_type": "markdown",
   "metadata": {},
   "source": [
    "# Missed in Cogstack"
   ]
  },
  {
   "cell_type": "code",
   "execution_count": 178,
   "metadata": {},
   "outputs": [
    {
     "data": {
      "text/plain": [
       "{datetime.datetime(1943, 1, 24, 0, 0),\n",
       " datetime.datetime(1998, 1, 24, 0, 0),\n",
       " '59-64-19',\n",
       " '61-27-69'}"
      ]
     },
     "execution_count": 178,
     "metadata": {},
     "output_type": "execute_result"
    }
   ],
   "source": [
    "set(test_df['Other_ID1']) - set(df1['patient_other_id1'])"
   ]
  },
  {
   "cell_type": "markdown",
   "metadata": {},
   "source": [
    "# Difference on PI"
   ]
  },
  {
   "cell_type": "code",
   "execution_count": 179,
   "metadata": {},
   "outputs": [
    {
     "name": "stdout",
     "output_type": "stream",
     "text": [
      "49-70-14 is different on PI values: 1.5722854   1.5308083000000001\n",
      "\tgender_coeff is different:  0.0   0.5681779\n",
      "\tgender_age_coeff is different:  0.0   0.6096550000000001\n",
      "56-85-16 is different on PI values: 0.5606118   0.1525082\n",
      "\teth_coeff is different:  0.4081036   0.0\n",
      "2\n"
     ]
    }
   ],
   "source": [
    "mis_count = 0\n",
    "for id in common_ids:\n",
    "    orig = test_df[test_df['Other_ID1'] == id]['PI'].values[0]\n",
    "    cog = df[df['patient_other_id1'] == id]['PI'].values[0]\n",
    "    if abs(orig - cog) > 0.00001:\n",
    "        mis_count += 1\n",
    "        print(str(id) + ' is different on PI values: ' + str(orig) + '   ' + str(cog))\n",
    "        for i in range(flen):\n",
    "            forig = test_df[test_df['Other_ID1'] == id][orig_fields[i]].values[0]\n",
    "            fcog = df[df['patient_other_id1'] == id][cog_fields[i]].values[0]\n",
    "            if abs(forig - fcog) > 0.00001:\n",
    "                print('\\t' + cog_fields[i] + ' is different:  ' + str(forig) + '   ' + str(fcog))\n",
    "print(mis_count)"
   ]
  },
  {
   "cell_type": "markdown",
   "metadata": {},
   "source": [
    "# Missed in CRIS"
   ]
  },
  {
   "cell_type": "code",
   "execution_count": 180,
   "metadata": {},
   "outputs": [],
   "source": [
    "ids = set(df1['patient_other_id1']) - set(test_df['Other_ID1'])"
   ]
  },
  {
   "cell_type": "code",
   "execution_count": 181,
   "metadata": {},
   "outputs": [
    {
     "data": {
      "text/plain": [
       "143"
      ]
     },
     "execution_count": 181,
     "metadata": {},
     "output_type": "execute_result"
    }
   ],
   "source": [
    "len(ids)"
   ]
  },
  {
   "cell_type": "code",
   "execution_count": 182,
   "metadata": {},
   "outputs": [
    {
     "data": {
      "image/png": "[encoded data removed]",
      "text/plain": [
       "<Figure size 432x288 with 1 Axes>"
      ]
     },
     "metadata": {
      "needs_background": "light"
     },
     "output_type": "display_data"
    }
   ],
   "source": [
    "sns.distplot(df1['h_2_year'])\n",
    "plt.show()"
   ]
  },
  {
   "cell_type": "code",
   "execution_count": 183,
   "metadata": {},
   "outputs": [
    {
     "data": {
      "text/plain": [
       "{'23-57-94',\n",
       " '23-63-54',\n",
       " '23-70-47',\n",
       " '24-01-43',\n",
       " '24-01-98',\n",
       " '26-46-06',\n",
       " '28-65-17',\n",
       " '35-94-49',\n",
       " '36-45-33',\n",
       " '37-08-84',\n",
       " '40-46-21',\n",
       " '40-58-32',\n",
       " '42-09-10',\n",
       " '42-66-71',\n",
       " '43-39-15',\n",
       " '44-45-04',\n",
       " '48-13-54',\n",
       " '48-17-77',\n",
       " '48-28-80',\n",
       " '49-52-80',\n",
       " '51-48-91',\n",
       " '51-83-68',\n",
       " '51-83-83',\n",
       " '53-51-47',\n",
       " '54-28-53',\n",
       " '54-66-84',\n",
       " '55-09-28',\n",
       " '55-13-79',\n",
       " '56-43-18',\n",
       " '57-55-94',\n",
       " '57-80-27',\n",
       " '58-03-56',\n",
       " '58-13-12',\n",
       " '58-35-96',\n",
       " '58-42-87',\n",
       " '58-47-49',\n",
       " '58-49-88',\n",
       " '58-56-27',\n",
       " '58-78-78',\n",
       " '58-84-57',\n",
       " '58-84-63',\n",
       " '59-12-95',\n",
       " '59-19-81',\n",
       " '59-31-11',\n",
       " '59-40-48',\n",
       " '59-43-54',\n",
       " '59-45-68',\n",
       " '59-49-63',\n",
       " '59-51-52',\n",
       " '59-54-08',\n",
       " '59-55-10',\n",
       " '59-61-95',\n",
       " '59-66-61',\n",
       " '59-68-08',\n",
       " '59-69-09',\n",
       " '59-69-81',\n",
       " '59-71-30',\n",
       " '59-71-73',\n",
       " '59-73-45',\n",
       " '59-74-31',\n",
       " '59-76-33',\n",
       " '59-86-46',\n",
       " '59-88-97',\n",
       " '59-90-39',\n",
       " '59-91-63',\n",
       " '59-93-71',\n",
       " '59-95-63',\n",
       " '59-96-09',\n",
       " '59-97-09',\n",
       " '59-97-37',\n",
       " '60-02-64',\n",
       " '60-02-88',\n",
       " '60-06-72',\n",
       " '60-06-82',\n",
       " '60-10-41',\n",
       " '60-14-41',\n",
       " '60-16-51',\n",
       " '60-16-91',\n",
       " '60-18-13',\n",
       " '60-26-16',\n",
       " '60-26-40',\n",
       " '60-31-95',\n",
       " '60-32-30',\n",
       " '60-33-44',\n",
       " '60-33-73',\n",
       " '60-34-37',\n",
       " '60-36-11',\n",
       " '60-39-33',\n",
       " '60-42-95',\n",
       " '60-51-47',\n",
       " '60-55-79',\n",
       " '60-56-27',\n",
       " '60-57-60',\n",
       " '60-69-63',\n",
       " '60-72-65',\n",
       " '60-75-09',\n",
       " '60-77-51',\n",
       " '60-77-54',\n",
       " '60-80-00',\n",
       " '60-83-13',\n",
       " '60-88-30',\n",
       " '60-91-19',\n",
       " '60-93-31',\n",
       " '60-96-75',\n",
       " '61-00-27',\n",
       " '61-02-04',\n",
       " '61-03-71',\n",
       " '61-04-72',\n",
       " '61-07-50',\n",
       " '61-08-87',\n",
       " '61-09-77',\n",
       " '61-10-95',\n",
       " '61-12-69',\n",
       " '61-16-98',\n",
       " '61-19-62',\n",
       " '61-22-89',\n",
       " '61-23-95',\n",
       " '61-23-98',\n",
       " '61-24-14',\n",
       " '61-26-74',\n",
       " '61-27-64',\n",
       " '61-27-67',\n",
       " '61-37-05',\n",
       " '61-43-16',\n",
       " '61-49-11',\n",
       " '61-55-23',\n",
       " '61-55-71',\n",
       " '61-59-27',\n",
       " '61-59-40',\n",
       " '61-61-69',\n",
       " '61-63-51',\n",
       " '61-65-26',\n",
       " '61-66-35',\n",
       " '61-67-98',\n",
       " '61-70-42',\n",
       " '61-73-32',\n",
       " '61-78-94',\n",
       " '61-95-57',\n",
       " '62-22-13',\n",
       " '62-23-16',\n",
       " '62-28-20',\n",
       " '62-38-77',\n",
       " '62-41-27'}"
      ]
     },
     "execution_count": 183,
     "metadata": {},
     "output_type": "execute_result"
    }
   ],
   "source": [
    "ids"
   ]
  },
  {
   "cell_type": "code",
   "execution_count": null,
   "metadata": {},
   "outputs": [],
   "source": []
  }
 ],
 "metadata": {
  "kernelspec": {
   "display_name": "Python 3",
   "language": "python",
   "name": "python3"
  },
  "language_info": {
   "codemirror_mode": {
    "name": "ipython",
    "version": 3
   },
   "file_extension": ".py",
   "mimetype": "text/x-python",
   "name": "python",
   "nbconvert_exporter": "python",
   "pygments_lexer": "ipython3",
   "version": "3.7.3"
  }
 },
 "nbformat": 4,
 "nbformat_minor": 2
}
