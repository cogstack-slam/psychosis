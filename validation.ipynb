{
 "cells": [
  {
   "cell_type": "code",
   "execution_count": 1,
   "metadata": {},
   "outputs": [],
   "source": [
    "from elasticsearch import Elasticsearch\n",
    "from elasticsearch_dsl import Search\n",
    "import pandas as pd\n",
    "import numpy as np\n",
    "import json\n",
    "from datetime import date, datetime\n",
    "import logging\n",
    "from elastic_util import *\n",
    "import time\n",
    "import seaborn as sns\n",
    "import matplotlib.pyplot as plt"
   ]
  },
  {
   "cell_type": "code",
   "execution_count": 2,
   "metadata": {},
   "outputs": [],
   "source": [
    "logger = logging.getLogger('psychosis_risk_cal')\n",
    "handler = logging.StreamHandler()\n",
    "formatter = logging.Formatter(\n",
    "        '%(asctime)s %(name)-12s %(levelname)-8s : %(message)s')\n",
    "handler.setFormatter(formatter)\n",
    "logger.addHandler(handler)\n",
    "logger.setLevel(logging.DEBUG)"
   ]
  },
  {
   "cell_type": "markdown",
   "metadata": {},
   "source": [
    "# 1. Read test data"
   ]
  },
  {
   "cell_type": "code",
   "execution_count": 3,
   "metadata": {},
   "outputs": [],
   "source": [
    "test_df = pd.read_excel('data/test_data.xlsx')"
   ]
  },
  {
   "cell_type": "code",
   "execution_count": 18,
   "metadata": {},
   "outputs": [
    {
     "data": {
      "text/plain": [
       "(120, 55)"
      ]
     },
     "execution_count": 18,
     "metadata": {},
     "output_type": "execute_result"
    }
   ],
   "source": [
    "test_df.shape"
   ]
  },
  {
   "cell_type": "markdown",
   "metadata": {},
   "source": [
    "# 1.1 Original calculation is only for patients whose ages are large than 16"
   ]
  },
  {
   "cell_type": "code",
   "execution_count": 5,
   "metadata": {},
   "outputs": [
    {
     "data": {
      "image/png": "[encoded data removed]",
      "text/plain": [
       "<Figure size 432x288 with 1 Axes>"
      ]
     },
     "metadata": {
      "needs_background": "light"
     },
     "output_type": "display_data"
    }
   ],
   "source": [
    "sns.distplot(test_df['AGE_at_index_diagnosis'])\n",
    "plt.show()"
   ]
  },
  {
   "cell_type": "code",
   "execution_count": 6,
   "metadata": {},
   "outputs": [
    {
     "data": {
      "text/plain": [
       "16"
      ]
     },
     "execution_count": 6,
     "metadata": {},
     "output_type": "execute_result"
    }
   ],
   "source": [
    "min(test_df['AGE_at_index_diagnosis'])"
   ]
  },
  {
   "cell_type": "code",
   "execution_count": 7,
   "metadata": {},
   "outputs": [
    {
     "data": {
      "image/png": "[encoded data removed]",
      "text/plain": [
       "<Figure size 432x288 with 1 Axes>"
      ]
     },
     "metadata": {
      "needs_background": "light"
     },
     "output_type": "display_data"
    }
   ],
   "source": [
    "sns.distplot(test_df['h_2_year'])\n",
    "plt.show()"
   ]
  },
  {
   "cell_type": "markdown",
   "metadata": {},
   "source": [
    "# 2. Read data from Cogstack"
   ]
  },
  {
   "cell_type": "code",
   "execution_count": 8,
   "metadata": {},
   "outputs": [
    {
     "name": "stderr",
     "output_type": "stream",
     "text": [
      "2019-05-13 14:43:34,055 psychosis_risk_cal INFO     : Connect to host.....\n",
      "2019-05-13 14:43:34,064 psychosis_risk_cal INFO     : Loaded 6963 documents\n",
      "2019-05-13 14:43:34,752 psychosis_risk_cal INFO     : Documents shape: 6963 34\n",
      "2019-05-13 14:43:34,753 psychosis_risk_cal INFO     : Change data types\n",
      "2019-05-13 14:43:34,755 psychosis_risk_cal INFO     : Documents shape after changing data types: 6963 34\n"
     ]
    }
   ],
   "source": [
    "logger.info('Connect to host.....')\n",
    "client = Elasticsearch(['http://10.16.31.65:9200/'], request_timeout=600)\n",
    "doc_type='doc'\n",
    "index = 'psychosis_risk'\n",
    "s = Search(using=client, index=index, doc_type=doc_type).filter('range', h_2_year={'gte': 0.05})\n",
    "logger.info('Loaded %s documents' %s.count())\n",
    "df = pd.DataFrame((d.to_dict() for d in s.scan()))\n",
    "logger.info('Documents shape: %s %s' %(df.shape))\n",
    "\n",
    "logger.info('Change data types')\n",
    "#     df['first_primary_diagnosis_date'] = pd.to_datetime(df['first_primary_diagnosis_date'])\n",
    "#     df['patient_date_of_birth'] = pd.to_datetime(df['patient_date_of_birth'])\n",
    "#     df['first_primary_diagnosis_recorded_date'] = pd.to_datetime(df['first_primary_diagnosis_recorded_date'])\n",
    "#     print(df.dtypes)\n",
    "#     df['patient_id'] = df['patient_id'].astype(int)\n",
    "#     df['referral_id'] = df['referral_id'].astype(int)\n",
    "logger.info('Documents shape after changing data types: %s %s' %(df.shape))"
   ]
  },
  {
   "cell_type": "code",
   "execution_count": 9,
   "metadata": {},
   "outputs": [
    {
     "data": {
      "text/plain": [
       "(6963, 34)"
      ]
     },
     "execution_count": 9,
     "metadata": {},
     "output_type": "execute_result"
    }
   ],
   "source": [
    "df.shape"
   ]
  },
  {
   "cell_type": "markdown",
   "metadata": {},
   "source": [
    "# 3. Records missed in Cogstack"
   ]
  },
  {
   "cell_type": "code",
   "execution_count": 10,
   "metadata": {},
   "outputs": [
    {
     "data": {
      "text/plain": [
       "{datetime.datetime(1943, 1, 24, 0, 0),\n",
       " datetime.datetime(1998, 1, 24, 0, 0),\n",
       " '59-64-19',\n",
       " '61-27-69'}"
      ]
     },
     "execution_count": 10,
     "metadata": {},
     "output_type": "execute_result"
    }
   ],
   "source": [
    "set(test_df['Other_ID1']) - set(df['patient_other_id1'])"
   ]
  },
  {
   "cell_type": "markdown",
   "metadata": {},
   "source": [
    "## There are 4 records are missed in Cogstack, \n",
    "\n",
    "## where 2 have mistakes in Other_ID1, so these 2 records cannot be tracked back.\n",
    "\n",
    "## Reason for the other 2 missed records (i.e., patients with \"Other_ID1\" of '59-64-19' and '61-27-69'): \n",
    "\n",
    "## Original calculation did not exclude invalid diagnosis, see the \"index_primary_diagnosis\" filed in the Excel file. The \"index_primary_diagnosis\" of these patients in the Excel file are \"F31.3 - Bipolar affect disorder cur epi mild or moderate depression\" and \"F30.1 - Mania without psychotic symptoms\", the same as the Primary_Diag of these patients' invalid diagnoses.\n",
    "\n",
    "## Below is the diagnoses of these two patients from ePJS. The first Primary_Diag of these two patients are invalid, so they are excluded in Cogstack-based calculations."
   ]
  },
  {
   "cell_type": "markdown",
   "metadata": {},
   "source": [
    "|Patient_ID|Other_ID1|\n",
    "|----------|---------|\n",
    "|471259|59-64-19|\n",
    "\n",
    "\n",
    "|ICD10_ID|Patient_ID|Diagnosis_Date|Created_Date|dnum|Primary_Diag|Invalid_Flag_ID|Invalid_Date|Invalid_Reason|\n",
    "|--------|----------|--------------|------------|----|------------|---------------|------------|--------------|\n",
    "|833975|471259|2018-03-19|2018-03-19|1|F31.3 - Bipolar affect disorder cur epi mild or moderate depression|1|2018-04-10 00:00:00|Wrong diagnosis entered erroneously |\n",
    "|837500|471259|2018-04-10|2018-04-10|2|F32.1 - Moderate depressive episode|0|||\n",
    "|862940|471259|2018-08-28|2018-08-28|3|F33.4 - Recurrent depressive disorder, currently in remission|0|||\n",
    "\n"
   ]
  },
  {
   "cell_type": "markdown",
   "metadata": {},
   "source": [
    "|Patient_ID|Other_ID1|\n",
    "|----------|---------|\n",
    "|487618|61-27-69|\n",
    "\n",
    "\n",
    "|ICD10_ID|Patient_ID|Diagnosis_Date|Created_Date|dnum|Primary_Diag|Invalid_Flag_ID|Invalid_Date|Invalid_Reason|\n",
    "|--------|----------|--------------|------------|----|------------|---------------|------------|--------------|\n",
    "|875441|487618|2018-11-09|2018-11-09|1|F30.1 - Mania without psychotic symptoms|1|2018-11-09 00:00:00||\n",
    "|875442|487618|2018-11-09|2018-11-09|2|F30.2 - Mania with psychotic symptoms|0|||\n",
    "|882163|487618|2018-12-12|2018-12-12|3|F30.2 - Mania with psychotic symptoms|0|||\n",
    "|887016|487618|2019-01-12|2019-01-12|4|F30.2 - Mania with psychotic symptoms|0|||\n",
    "|888452|487618|2019-01-21|2019-01-21|5|F30.2 - Mania with psychotic symptoms|0|||\n",
    "|889448|487618|2019-01-25|2019-01-25|6|F30.2 - Mania with psychotic symptoms|0|||\n",
    "|890244|487618|2019-01-30|2019-01-30|7|F30.2 - Mania with psychotic symptoms|0|||\n",
    "|890914|487618|2019-01-30|2019-02-02|8|F30.2 - Mania with psychotic symptoms|0|||\n",
    "\n"
   ]
  },
  {
   "cell_type": "markdown",
   "metadata": {},
   "source": [
    "# 4. Check differences of risk scores"
   ]
  },
  {
   "cell_type": "code",
   "execution_count": 11,
   "metadata": {},
   "outputs": [],
   "source": [
    "common_ids = set(test_df['Other_ID1']).intersection(set(df['patient_other_id1']))"
   ]
  },
  {
   "cell_type": "code",
   "execution_count": 12,
   "metadata": {},
   "outputs": [
    {
     "data": {
      "text/plain": [
       "116"
      ]
     },
     "execution_count": 12,
     "metadata": {},
     "output_type": "execute_result"
    }
   ],
   "source": [
    "len(common_ids)"
   ]
  },
  {
   "cell_type": "code",
   "execution_count": 13,
   "metadata": {},
   "outputs": [],
   "source": [
    "orig_fields = ['Gender_co_ef', 'Age_co_ef', 'diagnosis_group_co_ef', 'Eth_co_ef', 'GenderAge']\n",
    "cog_fields = ['gender_coeff', 'age_coeff', 'diagnosis_group_coeff', 'eth_coeff', 'gender_age_coeff']\n",
    "flen = len(orig_fields)"
   ]
  },
  {
   "cell_type": "markdown",
   "metadata": {},
   "source": [
    "## 4.1 Check different of PI"
   ]
  },
  {
   "cell_type": "code",
   "execution_count": 14,
   "metadata": {},
   "outputs": [
    {
     "name": "stdout",
     "output_type": "stream",
     "text": [
      "49-70-14 is different on PI values: 1.5722854   1.5308083000000001\n",
      "\tgender_coeff is different:  0.0   0.5681779\n",
      "\tgender_age_coeff is different:  0.0   0.6096550000000001\n",
      "56-85-16 is different on PI values: 0.5606118   0.1525082\n",
      "\teth_coeff is different:  0.4081036   0.0\n",
      "2\n"
     ]
    }
   ],
   "source": [
    "mis_count = 0\n",
    "for id in common_ids:\n",
    "    orig = test_df[test_df['Other_ID1'] == id]['PI'].values[0]\n",
    "    cog = df[df['patient_other_id1'] == id]['PI'].values[0]\n",
    "    if abs(orig - cog) > 0.00001:\n",
    "        mis_count += 1\n",
    "        print(str(id) + ' is different on PI values: ' + str(orig) + '   ' + str(cog))\n",
    "        for i in range(flen):\n",
    "            forig = test_df[test_df['Other_ID1'] == id][orig_fields[i]].values[0]\n",
    "            fcog = df[df['patient_other_id1'] == id][cog_fields[i]].values[0]\n",
    "            if abs(forig - fcog) > 0.00001:\n",
    "                print('\\t' + cog_fields[i] + ' is different:  ' + str(forig) + '   ' + str(fcog))\n",
    "print(mis_count)"
   ]
  },
  {
   "cell_type": "markdown",
   "metadata": {},
   "source": [
    "|patient_id|patient_updated_dttm|patient_name|patient_other_id1|patient_date_of_birth|patient_demography_gender|patient_demography_ethnicity|\n",
    "|----------|--------------------|------------|-----------------|---------------------|-------------------------|----------------------------|\n",
    "|443341|2019-01-02 11:44:32|Ms Alisha Rouse|56-85-16|1990-11-21|Female|British (A)|\n"
   ]
  },
  {
   "cell_type": "markdown",
   "metadata": {},
   "source": [
    "|patient_id|patient_updated_dttm|patient_name|patient_other_id1|patient_date_of_birth|patient_demography_gender|patient_demography_ethnicity|\n",
    "|----------|--------------------|------------|-----------------|---------------------|-------------------------|----------------------------|\n",
    "|371803|2018-12-04 11:19:35|Mr Adir Ferriera Da Silva|49-70-14|1968-08-30|Male|Portuguese (C4)|\n"
   ]
  },
  {
   "cell_type": "markdown",
   "metadata": {},
   "source": [
    "## The above two patients have updates about their demographic information on 2019-01-02 and 2018-12-04, the dates after the dates of original risk calculations, i.e., 29/11/2018 and 28/11/2018 respectively."
   ]
  },
  {
   "cell_type": "markdown",
   "metadata": {},
   "source": [
    "## 4.1 Check different of h_2_year"
   ]
  },
  {
   "cell_type": "code",
   "execution_count": 16,
   "metadata": {},
   "outputs": [
    {
     "name": "stdout",
     "output_type": "stream",
     "text": [
      "49-70-14 is different on h_2_year values: 0.2029   0.1955068031924856\n",
      "\tgender_coeff is different:  0.0   0.5681779\n",
      "\tgender_age_coeff is different:  0.0   0.6096550000000001\n",
      "56-85-16 is different on h_2_year values: 0.0791   0.0533465597538495\n",
      "\teth_coeff is different:  0.4081036   0.0\n",
      "2\n"
     ]
    }
   ],
   "source": [
    "mis_count = 0\n",
    "for id in common_ids:\n",
    "    orig = test_df[test_df['Other_ID1'] == id]['h_2_year'].values[0]\n",
    "    cog = df[df['patient_other_id1'] == id]['h_2_year'].values[0]\n",
    "    if abs(orig - cog) > 0.0001:\n",
    "        mis_count += 1\n",
    "        print(str(id) + ' is different on h_2_year values: ' + str(orig) + '   ' + str(cog))\n",
    "        for i in range(flen):\n",
    "            forig = test_df[test_df['Other_ID1'] == id][orig_fields[i]].values[0]\n",
    "            fcog = df[df['patient_other_id1'] == id][cog_fields[i]].values[0]\n",
    "            if abs(forig - fcog) > 0.0001:\n",
    "                print('\\t' + cog_fields[i] + ' is different:  ' + str(forig) + '   ' + str(fcog))\n",
    "print(mis_count)"
   ]
  },
  {
   "cell_type": "markdown",
   "metadata": {},
   "source": [
    "## There is no further difference on h_2_year, indicating there is no problem in transforming PI to h_2_year"
   ]
  },
  {
   "cell_type": "code",
   "execution_count": 17,
   "metadata": {},
   "outputs": [
    {
     "name": "stdout",
     "output_type": "stream",
     "text": [
      "49-70-14 is different on h_5_year values: 0.3447   0.3333470253335954\n",
      "\tgender_coeff is different:  0.0   0.5681779\n",
      "\tgender_age_coeff is different:  0.0   0.6096550000000001\n",
      "56-85-16 is different on h_5_year values: 0.1425   0.09713753758263477\n",
      "\teth_coeff is different:  0.4081036   0.0\n",
      "2\n"
     ]
    }
   ],
   "source": [
    "mis_count = 0\n",
    "for id in common_ids:\n",
    "    orig = test_df[test_df['Other_ID1'] == id]['h_5_year'].values[0]\n",
    "    cog = df[df['patient_other_id1'] == id]['h_5_year'].values[0]\n",
    "    if abs(orig - cog) > 0.0001:\n",
    "        mis_count += 1\n",
    "        print(str(id) + ' is different on h_5_year values: ' + str(orig) + '   ' + str(cog))\n",
    "        for i in range(flen):\n",
    "            forig = test_df[test_df['Other_ID1'] == id][orig_fields[i]].values[0]\n",
    "            fcog = df[df['patient_other_id1'] == id][cog_fields[i]].values[0]\n",
    "            if abs(forig - fcog) > 0.0001:\n",
    "                print('\\t' + cog_fields[i] + ' is different:  ' + str(forig) + '   ' + str(fcog))\n",
    "print(mis_count)"
   ]
  },
  {
   "cell_type": "markdown",
   "metadata": {},
   "source": [
    "## There is no further difference on h_5_year, indicating there is no problem in transforming PI to h_5_year"
   ]
  },
  {
   "cell_type": "code",
   "execution_count": null,
   "metadata": {},
   "outputs": [],
   "source": []
  }
 ],
 "metadata": {
  "kernelspec": {
   "display_name": "Python 3",
   "language": "python",
   "name": "python3"
  },
  "language_info": {
   "codemirror_mode": {
    "name": "ipython",
    "version": 3
   },
   "file_extension": ".py",
   "mimetype": "text/x-python",
   "name": "python",
   "nbconvert_exporter": "python",
   "pygments_lexer": "ipython3",
   "version": "3.7.3"
  }
 },
 "nbformat": 4,
 "nbformat_minor": 2
}
